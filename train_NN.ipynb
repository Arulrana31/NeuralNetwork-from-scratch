{
 "cells": [
  {
   "cell_type": "code",
   "execution_count": 1,
   "id": "b60e86be",
   "metadata": {},
   "outputs": [],
   "source": [
    "import pandas as pd\n",
    "import numpy as np\n",
    "from Network import network"
   ]
  },
  {
   "cell_type": "code",
   "execution_count": 2,
   "id": "6e0d3a53",
   "metadata": {},
   "outputs": [],
   "source": [
    "df = pd.read_csv(\"mnist_test.csv\")"
   ]
  },
  {
   "cell_type": "code",
   "execution_count": 3,
   "id": "2839c4de",
   "metadata": {},
   "outputs": [
    {
     "name": "stdout",
     "output_type": "stream",
     "text": [
      "(9000,)\n"
     ]
    }
   ],
   "source": [
    "df.head()\n",
    "data = np.array(df)\n",
    "m, n = data.shape\n",
    "np.random.shuffle(data)  # shuffle before splitting into dev and training sets\n",
    "\n",
    "data_dev = data[0:1000].T\n",
    "Y_dev = data_dev[0]\n",
    "X_dev = data_dev[1:n]\n",
    "X_dev = X_dev / 255.0\n",
    "\n",
    "data_train = data[1000:10000].T\n",
    "Y_train = data_train[0]\n",
    "X_train = data_train[1:n]\n",
    "X_train = X_train / 255.0\n",
    "_, m_train = X_train.shape\n",
    "X_train.shape\n",
    "print(Y_train.shape)\n",
    "\n",
    "\n",
    "def prepare_data(X, Y, num_samples):\n",
    "    k = np.zeros((10, num_samples))\n",
    "    for i in range(num_samples):\n",
    "        k[Y[i], i] = 1\n",
    "    x = [np.asarray(X[:, i].reshape(-1, 1)) for i in range(num_samples)]\n",
    "    y = [np.asarray(k[:, i].reshape(-1, 1)) for i in range(num_samples)]\n",
    "    return x, y\n",
    "\n",
    "\n",
    "x, y = prepare_data(X_train, Y_train, 9000)\n",
    "x_test, y_test = prepare_data(X_dev, Y_dev, 1000)\n"
   ]
  },
  {
   "cell_type": "code",
   "execution_count": 4,
   "id": "949435ec",
   "metadata": {},
   "outputs": [
    {
     "name": "stdout",
     "output_type": "stream",
     "text": [
      "Training started....\n",
      "Epoch: 0; Cost_Training = 0.0932; Cost_Validation = 0.1160\n",
      "Estimated time: 1 mins 44.27600145339966 seconds\n",
      "Epoch: 5; Cost_Training = 0.9712; Cost_Validation = 0.9350\n",
      "Epoch: 10; Cost_Training = 0.9852; Cost_Validation = 0.9370\n",
      "Epoch: 15; Cost_Training = 0.9923; Cost_Validation = 0.9360\n",
      "Epoch: 20; Cost_Training = 0.9969; Cost_Validation = 0.9390\n",
      "Epoch: 25; Cost_Training = 0.9989; Cost_Validation = 0.9350\n",
      "Epoch: 30; Cost_Training = 0.9993; Cost_Validation = 0.9350\n",
      "Epoch: 35; Cost_Training = 0.9998; Cost_Validation = 0.9320\n",
      "Epoch: 40; Cost_Training = 0.9994; Cost_Validation = 0.9330\n",
      "Epoch: 45; Cost_Training = 0.9999; Cost_Validation = 0.9360\n",
      "Epoch: 50; Cost_Training = 0.9998; Cost_Validation = 0.9340\n",
      "Epoch: 55; Cost_Training = 0.9974; Cost_Validation = 0.9280\n",
      "Epoch: 60; Cost_Training = 1.0000; Cost_Validation = 0.9350\n",
      "Epoch: 65; Cost_Training = 0.9991; Cost_Validation = 0.9330\n",
      "Training ended....\n"
     ]
    }
   ],
   "source": [
    "net_ = network(3, [784, 30, 10], [\"ReLU\", \"SoftMax\"])\n",
    "net_.initialize()\n",
    "net_.train(\n",
    "    x,\n",
    "    y,\n",
    "    x_test,\n",
    "    y_test,\n",
    "    batch_size=100,\n",
    "    epochs=70,\n",
    "    cost_display=\"HardMax\",\n",
    "    update=5,\n",
    "    lambda_=1e-4,\n",
    ")"
   ]
  }
 ],
 "metadata": {
  "kernelspec": {
   "display_name": "myvenv",
   "language": "python",
   "name": "python3"
  },
  "language_info": {
   "codemirror_mode": {
    "name": "ipython",
    "version": 3
   },
   "file_extension": ".py",
   "mimetype": "text/x-python",
   "name": "python",
   "nbconvert_exporter": "python",
   "pygments_lexer": "ipython3",
   "version": "3.13.1"
  }
 },
 "nbformat": 4,
 "nbformat_minor": 5
}
